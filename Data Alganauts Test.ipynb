{
 "cells": [
  {
   "cell_type": "code",
   "execution_count": 1,
   "metadata": {},
   "outputs": [],
   "source": [
    "%reload_ext autoreload\n",
    "%autoreload 2\n",
    "%matplotlib inline\n",
    "from fastai import *\n",
    "from fastai.vision import *\n",
    "from fastai.callbacks import *\n",
    "import matplotlib.pyplot as plt\n",
    "import scipy.io\n",
    "import numpy as np\n",
    "import csv\n",
    "import pandas as pd\n",
    "import os,sys\n"
   ]
  },
  {
   "cell_type": "code",
   "execution_count": 2,
   "metadata": {},
   "outputs": [],
   "source": [
    "path_main=Path('/home/visionlab/Georgin/algonautsChallenge_codes/')\n",
    "path_test_images=Path(path_main/'Test_Data/78images/')\n",
    "path_test_image_pairs=Path(path_main/'Test_Data/78images_imagepairs/')\n",
    "path_test_file=Path(path_main/'Test_Data')\n"
   ]
  },
  {
   "cell_type": "code",
   "execution_count": 5,
   "metadata": {},
   "outputs": [],
   "source": [
    "# To train using the predefined fast.ai databunch, I are combining the image pair into a single image and storing it in a new folder\n",
    "\n",
    "# Getting the details about the file in the training  folder\n",
    "image_file_names=os.listdir(path_test_images)\n",
    "image_file_names=np.sort(image_file_names)\n",
    "image_file_names=image_file_names.tolist()\n",
    "\n",
    "# Storing the combined image and distance\n",
    "import csv\n",
    "# creating  a training csv file image1_path, image2_path, similarity measure\n",
    "from itertools import combinations\n",
    "\n",
    "N=len(image_file_names)\n",
    "training_cond=[]\n",
    "combA = combinations(range(0,N),2)\n",
    "combA_list=list(combA)\n",
    "combA=np.array(combA_list)\n",
    "NA=len(combA)"
   ]
  },
  {
   "cell_type": "code",
   "execution_count": 6,
   "metadata": {},
   "outputs": [],
   "source": [
    "from PIL import Image\n",
    "tfms=get_transforms(do_flip=False,max_rotate=0.0,max_warp=0.0)\n",
    "from PIL import Image\n",
    "# Combine  two image and save in new folder\n",
    "\n",
    "for i in combA:\n",
    "    image1_path=image_file_names[i[0]]\n",
    "    image2_path=image_file_names[i[1]]\n",
    "    image1 = Image.open(path_test_images/image1_path)\n",
    "    image2= Image.open(path_test_images/image2_path)\n",
    "    img=Image.new('RGB',(350,175))\n",
    "    img.paste(image1,(0,0))\n",
    "    img.paste(image2,(175,0))\n",
    "    name='set78_'+image1_path.strip('.jpg')+'_'+image2_path\n",
    "    img.save(path_test_images/name)"
   ]
  },
  {
   "cell_type": "code",
   "execution_count": 7,
   "metadata": {},
   "outputs": [],
   "source": [
    "with open(path_test_images/'../testset_testing_distance_file.csv', 'w',newline='') as csvFile:\n",
    "    header = ['ImagePair','Index']\n",
    "    writer = csv.writer(csvFile,delimiter=',')\n",
    "    writer.writerow(header)\n",
    "    count=0;\n",
    "    for i in combA:\n",
    "        image1_path=image_file_names[i[0]]\n",
    "        image2_path=image_file_names[i[1]]\n",
    "        name='set78_'+image1_path.strip('.jpg')+'_'+image2_path\n",
    "        L=['','']\n",
    "        L[0]=name\n",
    "        L[1]=count\n",
    "        count+=1\n",
    "        writer.writerow(L)\n",
    "csvFile.close()"
   ]
  }
 ],
 "metadata": {
  "kernelspec": {
   "display_name": "Python 3",
   "language": "python",
   "name": "python3"
  },
  "language_info": {
   "codemirror_mode": {
    "name": "ipython",
    "version": 3
   },
   "file_extension": ".py",
   "mimetype": "text/x-python",
   "name": "python",
   "nbconvert_exporter": "python",
   "pygments_lexer": "ipython3",
   "version": "3.7.5"
  }
 },
 "nbformat": 4,
 "nbformat_minor": 2
}
