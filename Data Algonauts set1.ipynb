{
 "cells": [
  {
   "cell_type": "code",
   "execution_count": 1,
   "metadata": {},
   "outputs": [],
   "source": [
    "import matplotlib.pyplot as plt\n",
    "import scipy.io\n",
    "import numpy as np\n",
    "import csv\n",
    "import pandas as pd\n",
    "import os,sys"
   ]
  },
  {
   "cell_type": "code",
   "execution_count": 2,
   "metadata": {},
   "outputs": [],
   "source": [
    "from fastai import *\n",
    "from fastai.vision import *\n",
    "from fastai.callbacks import *"
   ]
  },
  {
   "cell_type": "code",
   "execution_count": 3,
   "metadata": {},
   "outputs": [],
   "source": [
    "path_main=Path('/home/visionlab/Georgin/algonautsChallenge_codes/')\n",
    "# set1\n",
    "path_training_images_set1=Path(path_main/'Training_Data/92_Image_Set/92images/')\n",
    "path_training_imagepairs_set1=Path(path_main/'Training_Data/92_Image_Set/92images_imgpairs/')\n",
    "#set1 testing \n",
    "#path_testing_images_set1=Path(path_main/'Training_Data/92_Image_Set/test_92images/')"
   ]
  },
  {
   "cell_type": "code",
   "execution_count": 4,
   "metadata": {},
   "outputs": [],
   "source": [
    "# READING THE MEG DATA FILE \n",
    "# SET1\n",
    "mat = scipy.io.loadmat(path_training_images_set1/'../target_meg.mat');\n",
    "meg_rdm_early=mat['MEG_RDMs_early']\n",
    "meg_rdm_late=mat['MEG_RDMs_late']\n",
    "# early RDM\n",
    "meg_rdm_early_timewise=np.mean(meg_rdm_early,axis=0)\n",
    "mean_early_rdm=np.mean(meg_rdm_early_timewise,axis=0)\n",
    "# late RDM\n",
    "meg_rdm_late_timewise=np.mean(meg_rdm_late,axis=0)\n",
    "mean_late_rdm=np.mean(meg_rdm_late_timewise,axis=0)\n"
   ]
  },
  {
   "cell_type": "code",
   "execution_count": 5,
   "metadata": {},
   "outputs": [],
   "source": [
    "# READING FMRI DATA\n",
    "mat = scipy.io.loadmat(path_training_images_set1/'../target_fmri.mat');\n",
    "# EVC RDM\n",
    "fmri_evc_rdm=mat['EVC_RDMs']\n",
    "mean_fmri_evc_rdm=np.mean(fmri_evc_rdm,axis=0)\n",
    "# IT RDM\n",
    "fmri_it_rdm=mat['IT_RDMs']\n",
    "mean_fmri_it_rdm=np.mean(fmri_it_rdm,axis=0)"
   ]
  },
  {
   "cell_type": "code",
   "execution_count": 6,
   "metadata": {},
   "outputs": [
    {
     "data": {
      "text/plain": [
       "(92, 92)"
      ]
     },
     "execution_count": 6,
     "metadata": {},
     "output_type": "execute_result"
    }
   ],
   "source": [
    "mean_fmri_evc_rdm.shape"
   ]
  },
  {
   "cell_type": "code",
   "execution_count": 7,
   "metadata": {},
   "outputs": [],
   "source": [
    "# To train using the predefined fast.ai databunch, I are combining the image pair into a single image and storing it in a new folder\n",
    "# Getting the details about the file in the training  folder\n",
    "image_file_names=os.listdir(path_training_images_set1)\n",
    "image_file_names=np.sort(image_file_names)\n",
    "image_file_names=image_file_names.tolist()\n",
    "\n",
    "# Storing the combined image and distance\n",
    "import csv\n",
    "# creating  a training csv file image1_path, image2_path, similarity measure\n",
    "from itertools import combinations\n",
    "\n",
    "N=len(image_file_names)\n",
    "training_cond=[]\n",
    "combA = combinations(range(0,N),2)\n",
    "combA_list=list(combA)\n",
    "combA=np.array(combA_list)\n",
    "NA=len(combA)\n",
    "combB=np.fliplr(combA)\n",
    "\n",
    "combAB=np.concatenate((combA,combB),axis=0)\n",
    "\n",
    "# same pairs\n",
    "#nR=len(combAB)/N\n",
    "#nR=np.round(nR)\n",
    "combC=np.array([[i,i]for i in range(0,N)])\n",
    "#combC=np.repeat(combC,nR,axis=0)\n",
    "\n",
    "combABC=np.concatenate((combAB,combC),axis=0)"
   ]
  },
  {
   "cell_type": "code",
   "execution_count": 8,
   "metadata": {},
   "outputs": [],
   "source": [
    "for i in combABC:\n",
    "    single_condition=['','','','','','']\n",
    "    if(i[0]!=i[1]):\n",
    "        value_early=mean_early_rdm[i[0]][i[1]]\n",
    "        value_late=mean_late_rdm[i[0]][i[1]]\n",
    "        fmri_value_evc=mean_fmri_evc_rdm[i[0]][i[1]]\n",
    "        fmri_value_it=mean_fmri_it_rdm[i[0]][i[1]]\n",
    "    else:\n",
    "        value_early=0\n",
    "        value_late=0\n",
    "        fmri_value_evc=0\n",
    "        fmri_value_it=0\n",
    "    \n",
    "    image1_path=image_file_names[i[0]]\n",
    "    image2_path=image_file_names[i[1]]\n",
    "    single_condition[0]=image1_path\n",
    "    single_condition[1]=image2_path\n",
    "    single_condition[2]=str(value_early)\n",
    "    single_condition[3]=str(value_late)\n",
    "    single_condition[4]=str(fmri_value_evc)\n",
    "    single_condition[5]=str(fmri_value_it)\n",
    "\n",
    "    training_cond.append(single_condition) \n",
    "\n",
    "from PIL import Image\n",
    "# Combine  two image and save in new folder\n",
    "\n",
    "for l in training_cond:\n",
    "    image1 = Image.open(path_training_images_set1/l[0])\n",
    "    image2= Image.open(path_training_images_set1/l[1])\n",
    "    img=Image.new('RGB',(350,175))\n",
    "    img.paste(image1,(0,0))\n",
    "    img.paste(image2,(175,0))\n",
    "    name='set92_'+l[0].strip('.jpg')+'_'+l[1]\n",
    "    img.save(path_training_imagepairs_set1/name)"
   ]
  },
  {
   "cell_type": "code",
   "execution_count": 9,
   "metadata": {},
   "outputs": [],
   "source": [
    "with open(path_training_images_set1/'../set1_training_distance_file.csv', 'w',newline='') as csvFile:\n",
    "    header = ['ImagePair', 'earlyDistance','lateDistance','fmri_evc','fmri_it']\n",
    "    writer = csv.writer(csvFile,delimiter=',')\n",
    "    writer.writerow(header)\n",
    "    for l in training_cond:\n",
    "        R=['','','','','']\n",
    "        name='set92_'+l[0].strip('.jpg')+'_'+l[1]\n",
    "        R[0]=name\n",
    "        R[1]=l[2]\n",
    "        R[2]=l[3]\n",
    "        R[3]=l[4]\n",
    "        R[4]=l[5]\n",
    "        writer.writerow(R)\n",
    "csvFile.close() "
   ]
  },
  {
   "cell_type": "code",
   "execution_count": 10,
   "metadata": {},
   "outputs": [],
   "source": [
    "# copying data\n",
    "import shutil\n",
    "path_training_image_pairs=Path(path_main/'Training_Data/210_imagepairs/')\n",
    "for l in training_cond:\n",
    "    name='set92_'+l[0].strip('.jpg')+'_'+l[1]\n",
    "    newPath = shutil.copy(path_training_imagepairs_set1/name, path_training_image_pairs)"
   ]
  }
 ],
 "metadata": {
  "kernelspec": {
   "display_name": "Python 3",
   "language": "python",
   "name": "python3"
  },
  "language_info": {
   "codemirror_mode": {
    "name": "ipython",
    "version": 3
   },
   "file_extension": ".py",
   "mimetype": "text/x-python",
   "name": "python",
   "nbconvert_exporter": "python",
   "pygments_lexer": "ipython3",
   "version": "3.7.5"
  }
 },
 "nbformat": 4,
 "nbformat_minor": 2
}
